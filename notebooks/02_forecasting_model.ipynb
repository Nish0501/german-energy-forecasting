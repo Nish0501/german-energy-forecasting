version https://git-lfs.github.com/spec/v1
oid sha256:4ca427582bf2e29977c85c691bffc1f183755fa729590348fc66be87426f145a
size 35536
